{
  "nbformat": 4,
  "nbformat_minor": 0,
  "metadata": {
    "colab": {
      "provenance": []
    },
    "kernelspec": {
      "name": "python3",
      "display_name": "Python 3"
    },
    "language_info": {
      "name": "python"
    }
  },
  "cells": [
    {
      "cell_type": "code",
      "execution_count": null,
      "metadata": {
        "id": "1q62sdrgBWzo"
      },
      "outputs": [],
      "source": []
    },
    {
      "cell_type": "markdown",
      "source": [
        "# New section"
      ],
      "metadata": {
        "id": "QduvOJp9BzyW"
      }
    },
    {
      "source": [
        "# Part 3: Data Analytics\n",
        "0. Load both the csv file from Part 1 pr.data.0.Current and the json file from Part 2 as dataframes (Spark, Pyspark, Pandas, Koalas, etc).\n",
        "\n",
        "1. Using the dataframe from the population data API (Part 2), generate the mean and the standard deviation of the annual US population across the years [2013, 2018] inclusive.\n",
        "\n",
        "2. Using the dataframe from the time-series (Part 1), For every series_id, find the best year: the year with the max/largest sum of \"value\" for all quarters in that year. Generate a report with each series id, the best year for that series, and the summed value for that year. For example, if the table had the following values:\n",
        "\n",
        "  ```\n",
        "  series_id\tyear\tperiod\tvalue\n",
        "  PRS30006011\t1995\tQ01\t1\n",
        "  PRS30006011\t1995\tQ02\t2\n",
        "  PRS30006011\t1996\tQ01\t3\n",
        "  PRS30006011\t1996\tQ02\t4\n",
        "  PRS30006012\t2000\tQ01\t0\n",
        "  PRS30006012\t2000\tQ02\t8\n",
        "  PRS30006012\t2001\tQ01\t2\n",
        "  PRS30006012\t2001\tQ02\t3\n",
        "  ```\n",
        "  \n",
        "  the report would generate the following table:\n",
        "\n",
        "  ```\n",
        "  series_id\tyear\tvalue\n",
        "  PRS30006011\t1996\t7\n",
        "  PRS30006012\t2000\t8\n",
        "  ```\n",
        "\n",
        "3. Using both dataframes from Part 1 and Part 2, generate a report that will provide the value for series_id = PRS30006032 and period = Q01 and the population for that given year (if available in the population dataset). The below table shows an example of one row that might appear in the resulting table:\n",
        "\n",
        "  ```\n",
        "  series_id\tyear\tperiod\tvalue\tPopulation\n",
        "  PRS30006032\t2018\tQ01\t1.9\t327167439\n",
        "  ```\n",
        "\n",
        "- **Hints:** when working with public datasets you sometimes might have to perform some data cleaning first. For example, you might find it useful to perform trimming of whitespaces before doing any filtering or joins\n",
        "\n",
        "\n",
        "4. Submit your analysis, your queries, and the outcome of the reports as a .ipynb file."
      ],
      "cell_type": "markdown",
      "metadata": {
        "id": "UUYwL66RCxSZ"
      }
    },
    {
      "source": [
        "## Taks - 0. Data loading\n",
        "Here I am loading the provided data files into DataFrames and using df.head() to show the data. I can use Pyspark dataframe too, but as the data voluem is small I am choosing pandas. *italicised text*\n"
      ],
      "cell_type": "markdown",
      "metadata": {
        "id": "zj85aCAzCxig"
      }
    },
    {
      "source": [
        "import pandas as pd\n",
        "\n",
        "def load_and_clean_time_series_data(file_path='pr.data.0.Current', delimiter='\\t'):\n",
        "    try:\n",
        "        time_series_df = pd.read_csv(file_path, delimiter=delimiter, keep_default_na=False)\n",
        "\n",
        "        # cleaning column names using strip()\n",
        "        time_series_df.columns = time_series_df.columns.str.strip()\n",
        "\n",
        "        # cleaning 'series_id' column, as data also contains empty characters\n",
        "        time_series_df['series_id'] = time_series_df['series_id'].str.strip()\n",
        "\n",
        "        return time_series_df\n",
        "\n",
        "    except FileNotFoundError:\n",
        "        print(f\"Error: File '{file_path}' not found.\")\n",
        "        return  # Or raise the exception, depending on your needs.\n",
        "    except pd.errors.ParserError:\n",
        "        print(f\"Error: Could not parse file '{file_path}'. Check delimiter and file format.\")\n",
        "        return\n",
        "    except Exception as e:\n",
        "        print(f\"An unexpected error occurred: {e}\")\n",
        "        return\n",
        "\n",
        "\n",
        "# -------------------------------------------------------------------------- #\n",
        "#                  Function Call Below This Line                             #\n",
        "# -------------------------------------------------------------------------- #\n",
        "\n",
        "time_series_df = load_and_clean_time_series_data()\n",
        "\n",
        "if time_series_df is not None:\n",
        "    print(\"\\nCleaned DataFrame:\")\n",
        "    print(time_series_df.head())\n",
        "\n",
        "    print(\"\\nPrinting column names for testing purpose:\")\n",
        "    print(\"\\nCleaned Column Names:\", time_series_df.columns.tolist()) # display as list\n",
        "\n",
        "    print(\"\\nTesting datatype of various columns:\")\n",
        "    print(time_series_df.dtypes)\n"
      ],
      "cell_type": "code",
      "metadata": {
        "colab": {
          "base_uri": "https://localhost:8080/"
        },
        "id": "H6yHXQyLCyrO",
        "outputId": "6449310a-f850-48d3-9dcf-33d81eaa1cc8"
      },
      "execution_count": 151,
      "outputs": [
        {
          "output_type": "stream",
          "name": "stdout",
          "text": [
            "\n",
            "Cleaned DataFrame:\n",
            "     series_id  year period  value footnote_codes\n",
            "0  PRS30006011  1995    Q01    2.6               \n",
            "1  PRS30006011  1995    Q02    2.1               \n",
            "2  PRS30006011  1995    Q03    0.9               \n",
            "3  PRS30006011  1995    Q04    0.1               \n",
            "4  PRS30006011  1995    Q05    1.4               \n",
            "\n",
            "Printing column names for testing purpose:\n",
            "\n",
            "Cleaned Column Names: ['series_id', 'year', 'period', 'value', 'footnote_codes']\n",
            "\n",
            "Testing datatype of various columns:\n",
            "series_id          object\n",
            "year                int64\n",
            "period             object\n",
            "value             float64\n",
            "footnote_codes     object\n",
            "dtype: object\n"
          ]
        }
      ]
    },
    {
      "cell_type": "code",
      "source": [
        "import json\n",
        "\n",
        "def load_and_display_population_data(file_path='population_data.json'):\n",
        "    try:\n",
        "        with open(file_path, 'r') as file:\n",
        "            data = json.load(file)\n",
        "\n",
        "        population_df = pd.DataFrame(data['data'])\n",
        "\n",
        "        print(\"DataFrame Columns:\")\n",
        "        print(population_df.columns.tolist())  # Display columns as a list for clarity\n",
        "\n",
        "        print(\"\\nFirst 5 Rows of DataFrame:\")\n",
        "        print(population_df.head())\n",
        "\n",
        "        return population_df  # Returning the DataFrame\n",
        "\n",
        "    except FileNotFoundError:\n",
        "        print(f\"Error: File '{file_path}' not found.\")\n",
        "    except json.JSONDecodeError:\n",
        "        print(f\"Error: Invalid JSON format in '{file_path}'.\")\n",
        "    except KeyError as e:\n",
        "        print(f\"Error: Key '{e.args[0]}' not found in JSON data.\")\n",
        "    except Exception as e:\n",
        "        print(f\"An unexpected error occurred: {e}\")\n",
        "\n",
        "# -------------------------------------------------------------------------- #\n",
        "#                  Function Call Below This Line                             #\n",
        "# -------------------------------------------------------------------------- #\n",
        "\n",
        "population_df = load_and_display_population_data()"
      ],
      "metadata": {
        "colab": {
          "base_uri": "https://localhost:8080/"
        },
        "id": "R3mns4TFHpCF",
        "outputId": "25475ddb-16b7-40c3-961e-b8ff2b2d904b"
      },
      "execution_count": 136,
      "outputs": [
        {
          "output_type": "stream",
          "name": "stdout",
          "text": [
            "DataFrame Columns:\n",
            "['ID Nation', 'Nation', 'ID Year', 'Year', 'Population', 'Slug Nation']\n",
            "\n",
            "First 5 Rows of DataFrame:\n",
            "  ID Nation         Nation  ID Year  Year  Population    Slug Nation\n",
            "0   01000US  United States     2023  2023   332387540  united-states\n",
            "1   01000US  United States     2022  2022   331097593  united-states\n",
            "2   01000US  United States     2021  2021   329725481  united-states\n",
            "3   01000US  United States     2020  2020   326569308  united-states\n",
            "4   01000US  United States     2019  2019   324697795  united-states\n"
          ]
        }
      ]
    },
    {
      "cell_type": "markdown",
      "source": [
        "# Task 1. Generate the mean and the standard deviation of the annual US population across the years [2013, 2018] inclusive."
      ],
      "metadata": {
        "id": "mwl-5mNMJlZe"
      }
    },
    {
      "cell_type": "code",
      "source": [
        "def calculate_population_stats(population_df, start_year=2013, end_year=2018):\n",
        "    # filter dataFrame for given year range\n",
        "    filtered_population_df = population_df[\n",
        "        (population_df['Year'].astype(int) >= start_year) &\n",
        "        (population_df['Year'].astype(int) <= end_year)\n",
        "    ]\n",
        "\n",
        "\n",
        "    mean_population = filtered_population_df['Population'].mean()\n",
        "    std_population = filtered_population_df['Population'].std()\n",
        "\n",
        "    # Printing results\n",
        "    print(f\"Mean population ({start_year}-{end_year}): {mean_population}\")\n",
        "    print(f\"Standard deviation of population ({start_year}-{end_year}): {std_population}\")\n",
        "\n",
        "# -------------------------------------------------------------------------- #\n",
        "#                  Function Call Below This Line                             #\n",
        "# -------------------------------------------------------------------------- #\n",
        "\n",
        "\n",
        "calculate_population_stats(population_df, 2013, 2018)  # Uses custom years\n"
      ],
      "metadata": {
        "colab": {
          "base_uri": "https://localhost:8080/"
        },
        "id": "LKcFexGtEXSb",
        "outputId": "a5fb7074-c916-4473-b806-38ede5f8b2b3"
      },
      "execution_count": 137,
      "outputs": [
        {
          "output_type": "stream",
          "name": "stdout",
          "text": [
            "Mean population (2013-2018): 317437383.0\n",
            "Standard deviation of population (2013-2018): 4257089.5415293295\n"
          ]
        }
      ]
    },
    {
      "cell_type": "code",
      "source": [
        "def test_population_stats(population_df, start_year=2013, end_year=2018, tolerance=1e-6):\n",
        "    filtered_df = population_df[\n",
        "        (population_df['Year'].astype(int) >= start_year) &\n",
        "        (population_df['Year'].astype(int) <= end_year)\n",
        "    ]\n",
        "\n",
        "    calculated_mean = filtered_df['Population'].mean()\n",
        "    calculated_std = filtered_df['Population'].std()\n",
        "\n",
        "    expected_mean = 317437383.0\n",
        "    expected_std = 4257089.5415293295\n",
        "\n",
        "    mean_within_tolerance = np.isclose(calculated_mean, expected_mean, atol=tolerance)\n",
        "    std_within_tolerance = np.isclose(calculated_std, expected_std, atol=tolerance)\n",
        "\n",
        "    print(f\"Calculated Mean: {calculated_mean}, Expected Mean: {expected_mean}\")\n",
        "    print(f\"Calculated Std Dev: {calculated_std}, Expected Std Dev: {expected_std}\")\n",
        "    print(f\"Mean within tolerance: {mean_within_tolerance}\")\n",
        "    print(f\"Std Dev within tolerance: {std_within_tolerance}\")\n",
        "\n",
        "    return mean_within_tolerance and std_within_tolerance\n",
        "\n",
        "# -------------------------------------------------------------------------- #\n",
        "#                  Function Call Below This Line                             #\n",
        "# -------------------------------------------------------------------------- #\n",
        "\n",
        "verification_result = test_population_stats(population_df)\n",
        "print(f\"Verification Result: {verification_result}\")"
      ],
      "metadata": {
        "colab": {
          "base_uri": "https://localhost:8080/"
        },
        "id": "1O2-RZsscaCj",
        "outputId": "b326b9a5-0f70-44cf-c7fc-eeba5feb7f6f"
      },
      "execution_count": 138,
      "outputs": [
        {
          "output_type": "stream",
          "name": "stdout",
          "text": [
            "Calculated Mean: 317437383.0, Expected Mean: 317437383.0\n",
            "Calculated Std Dev: 4257089.5415293295, Expected Std Dev: 4257089.5415293295\n",
            "Mean within tolerance: True\n",
            "Std Dev within tolerance: True\n",
            "Verification Result: True\n"
          ]
        }
      ]
    },
    {
      "source": [
        "# Task 2. For every series_id, find the best year: the year with the max/largest sum of \"value\" for all quarters in that year. Generate a report with each series id, the best year for that series, and the summed value for that year. For example, if the table had the following values:"
      ],
      "cell_type": "markdown",
      "metadata": {
        "id": "hB8hWRhuC58Z"
      }
    },
    {
      "source": [
        "import pandas as pd\n",
        "\n",
        "def find_best_years(time_series_df):\n",
        "    # convert 'value' to numeric and fill na with 0\n",
        "    time_series_df['value'] = pd.to_numeric(time_series_df['value'], errors='coerce')\n",
        "    time_series_df['value'] = time_series_df['value'].fillna(0)\n",
        "\n",
        "    # calculate sum by year\n",
        "    yearly_sums = time_series_df.groupby(['series_id', 'year'])['value'].sum().reset_index()\n",
        "\n",
        "    # find best years (years with maximum sum for each series_id)\n",
        "    best_years = yearly_sums.loc[yearly_sums.groupby('series_id')['value'].idxmax()]\n",
        "\n",
        "    report_df = best_years[['series_id', 'year', 'value']]\n",
        "\n",
        "    return report_df\n",
        "\n",
        "# -------------------------------------------------------------------------- #\n",
        "#                  Function Call Below This Line                             #\n",
        "# -------------------------------------------------------------------------- #\n",
        "\n",
        "report = find_best_years(time_series_df)\n",
        "print(report)"
      ],
      "cell_type": "code",
      "metadata": {
        "colab": {
          "base_uri": "https://localhost:8080/"
        },
        "id": "4e6dcMelDD2d",
        "outputId": "be6fbf8d-ba62-46bc-c388-81c6e327f00b"
      },
      "execution_count": 132,
      "outputs": [
        {
          "output_type": "stream",
          "name": "stdout",
          "text": [
            "        series_id  year    value\n",
            "27    PRS30006011  2022   20.500\n",
            "57    PRS30006012  2022   17.100\n",
            "63    PRS30006013  1998  705.895\n",
            "105   PRS30006021  2010   17.700\n",
            "135   PRS30006022  2010   12.400\n",
            "...           ...   ...      ...\n",
            "8182  PRS88003192  2002  282.800\n",
            "8233  PRS88003193  2023  847.203\n",
            "8262  PRS88003201  2022   37.200\n",
            "8292  PRS88003202  2022   28.700\n",
            "8323  PRS88003203  2023  577.546\n",
            "\n",
            "[282 rows x 3 columns]\n"
          ]
        }
      ]
    },
    {
      "cell_type": "code",
      "source": [
        "def test_find_best_years(time_series_df, series_id='PRS88003192', year=2002):\n",
        "    try:\n",
        "        filtered_by_series = time_series_df[time_series_df['series_id'] == series_id]\n",
        "        filtered_by_year = filtered_by_series[filtered_by_series['year'] == year]\n",
        "        sum_of_values = filtered_by_year['value'].sum()\n",
        "        print(f\"Sum of values for year {year} (series_id = {series_id}): {sum_of_values}\")\n",
        "\n",
        "    except KeyError as e:\n",
        "        print(f\"Error: Column '{e.args[0]}' not found in DataFrame.\")\n",
        "    except Exception as e:\n",
        "        print(f\"An unexpected error occurred: {e}\")\n",
        "\n",
        "# -------------------------------------------------------------------------- #\n",
        "#                  Function Call Below This Line                             #\n",
        "# -------------------------------------------------------------------------- #\n",
        "\n",
        "# verify_task2_result(time_series_df) #uses default values\n",
        "# verify_task2_result(time_series_df, series_id='PRS88003192', year=2002) #example with explicit values.\n",
        "test_find_best_result(time_series_df, series_id='PRS88003193', year=2023) #example with different values."
      ],
      "metadata": {
        "colab": {
          "base_uri": "https://localhost:8080/"
        },
        "id": "E6Rvo9pbW4rX",
        "outputId": "1f2494ee-a36e-49de-ef33-39b1206f29cf"
      },
      "execution_count": 139,
      "outputs": [
        {
          "output_type": "stream",
          "name": "stdout",
          "text": [
            "Sum of values for year 2023 (series_id = PRS88003193): 847.203\n"
          ]
        }
      ]
    },
    {
      "cell_type": "markdown",
      "source": [
        "# 3. Using population and time_series data frame, generate a report that will provide the value for series_id = PRS30006032 and period = Q01 and the population for that given year (if available in the population dataset). The below table shows an example of one row that might appear in the resulting table:\n",
        "\n",
        "```series_id\tyear\tperiod\tvalue\tPopulation\n",
        "PRS30006032\t2018\tQ01\t1.9\t327167439\n",
        "```\n"
      ],
      "metadata": {
        "id": "rJ_X3Ge7Rq4L"
      }
    },
    {
      "cell_type": "code",
      "source": [
        "import pandas as pd\n",
        "\n",
        "def series_value_and_population_q1(time_series_df, population_df):\n",
        "    # Filter time_series_df for series_id and Q01\n",
        "    filtered_time_series_df = time_series_df[\n",
        "        (time_series_df['series_id'] == 'PRS30006032') &\n",
        "        (time_series_df['period'] == 'Q01')\n",
        "    ].copy()  # creating a copy as I was getting SettingWithCopyWarning\n",
        "\n",
        "    # renaming column to lower case year\n",
        "    population_df = population_df.rename(columns={'Year': 'year'})\n",
        "\n",
        "    # join DataFrames on 'year'\n",
        "    report_df = pd.merge(filtered_time_series_df, population_df, on='year', how='left')\n",
        "\n",
        "    # Select desired columns for the report\n",
        "    report_df = report_df[['series_id', 'year', 'period', 'value', 'Population']]\n",
        "\n",
        "    return report_df\n",
        "\n",
        "# -------------------------------------------------------------------------- #\n",
        "#                  Function Call Below This Line                             #\n",
        "# -------------------------------------------------------------------------- #\n",
        "\n",
        "report = series_value_and_population_q1(time_series_df, population_df)\n",
        "print(report)"
      ],
      "metadata": {
        "colab": {
          "base_uri": "https://localhost:8080/"
        },
        "id": "b09I_rBDRz3Z",
        "outputId": "3d248d40-2ca5-4830-86fc-8d6aba4a3c2c"
      },
      "execution_count": 152,
      "outputs": [
        {
          "output_type": "stream",
          "name": "stdout",
          "text": [
            "      series_id  year period  value   Population\n",
            "0   PRS30006032  1995    Q01    0.0          NaN\n",
            "1   PRS30006032  1996    Q01   -4.2          NaN\n",
            "2   PRS30006032  1997    Q01    2.8          NaN\n",
            "3   PRS30006032  1998    Q01    0.9          NaN\n",
            "4   PRS30006032  1999    Q01   -4.1          NaN\n",
            "5   PRS30006032  2000    Q01    0.5          NaN\n",
            "6   PRS30006032  2001    Q01   -6.3          NaN\n",
            "7   PRS30006032  2002    Q01   -6.6          NaN\n",
            "8   PRS30006032  2003    Q01   -5.7          NaN\n",
            "9   PRS30006032  2004    Q01    2.0          NaN\n",
            "10  PRS30006032  2005    Q01   -0.5          NaN\n",
            "11  PRS30006032  2006    Q01    1.8          NaN\n",
            "12  PRS30006032  2007    Q01   -0.8          NaN\n",
            "13  PRS30006032  2008    Q01   -3.5          NaN\n",
            "14  PRS30006032  2009    Q01  -21.0          NaN\n",
            "15  PRS30006032  2010    Q01    3.2          NaN\n",
            "16  PRS30006032  2011    Q01    1.5          NaN\n",
            "17  PRS30006032  2012    Q01    2.5          NaN\n",
            "18  PRS30006032  2013    Q01    0.5  311536594.0\n",
            "19  PRS30006032  2014    Q01   -0.1  314107084.0\n",
            "20  PRS30006032  2015    Q01   -1.7  316515021.0\n",
            "21  PRS30006032  2016    Q01   -1.4  318558162.0\n",
            "22  PRS30006032  2017    Q01    0.9  321004407.0\n",
            "23  PRS30006032  2018    Q01    0.5  322903030.0\n",
            "24  PRS30006032  2019    Q01   -1.6  324697795.0\n",
            "25  PRS30006032  2020    Q01   -7.0  326569308.0\n",
            "26  PRS30006032  2021    Q01    0.7  329725481.0\n",
            "27  PRS30006032  2022    Q01    5.2  331097593.0\n",
            "28  PRS30006032  2023    Q01    0.3  332387540.0\n",
            "29  PRS30006032  2024    Q01   -0.7          NaN\n"
          ]
        }
      ]
    },
    {
      "cell_type": "code",
      "source": [
        "import pandas as pd\n",
        "\n",
        "def test_series_value_and_population_q1(time_series_df, population_df):\n",
        "    report_df = series_value_and_population_q1(time_series_df, population_df)\n",
        "    report_df_2018 = report_df[report_df['year'] == 2018]\n",
        "\n",
        "    # Expected output DataFrame\n",
        "    expected_df = pd.DataFrame({\n",
        "        'series_id': ['PRS30006032'],\n",
        "        'year': [2018],\n",
        "        'period': ['Q01'],\n",
        "        'value': [0.5],  # Assuming this is the correct value for the test case\n",
        "        'Population': [322903030.0]\n",
        "    })\n",
        "\n",
        "    # PRS30006032  2018    Q01    0.5  322903030.0\n",
        "    # Check if the generated report matches the expected output, ignoring index\n",
        "    try:\n",
        "        pd.testing.assert_frame_equal(report_df_2018.reset_index(drop=True), expected_df, check_like=True)\n",
        "        print(\"Test passed: Generated report matches expected output.\")\n",
        "        return True\n",
        "    except AssertionError as e:\n",
        "        print(f\"Test failed: {e}\")\n",
        "        return False\n",
        "\n",
        "\n",
        "# -------------------------------------------------------------------------- #\n",
        "#                  Function Call Below This Line                             #\n",
        "# -------------------------------------------------------------------------- #\n",
        "\n",
        "test_result = test_series_value_and_population_q1(time_series_df, population_df)\n",
        "print(f\"Test Result: {test_result}\")"
      ],
      "metadata": {
        "colab": {
          "base_uri": "https://localhost:8080/"
        },
        "id": "JVKGPcsHTgtu",
        "outputId": "45fd6090-6db1-4ef7-f321-1d421de3a90b"
      },
      "execution_count": 149,
      "outputs": [
        {
          "output_type": "stream",
          "name": "stdout",
          "text": [
            "      series_id  year period  value   Population\n",
            "23  PRS30006032  2018    Q01    0.5  322903030.0\n",
            "     series_id  year period  value   Population\n",
            "0  PRS30006032  2018    Q01    0.5  322903030.0\n",
            "Test passed: Generated report matches expected output.\n",
            "Test Result: True\n"
          ]
        }
      ]
    },
    {
      "cell_type": "code",
      "source": [],
      "metadata": {
        "id": "kOx9GIpOTb5F"
      },
      "execution_count": null,
      "outputs": []
    }
  ]
}